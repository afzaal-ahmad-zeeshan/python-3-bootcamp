{
 "cells": [
  {
   "cell_type": "markdown",
   "metadata": {},
   "source": [
    "# Python Bootcamp\n",
    "\n",
    "Let's learn Python together. :-)"
   ]
  },
  {
   "cell_type": "markdown",
   "metadata": {},
   "source": [
    "## IDEs\n",
    "\n",
    "Python is so simple, you can write a Python program in your Notepad (or TextEdit) programs; as an assignment, try writing a hello world in your Notepad. But, there are several other IDEs that can help you with Python development:\n",
    "\n",
    "1. VS Code\n",
    "1. PyCharm\n",
    "1. Spyder\n",
    "1. IDLE\n",
    "1. Eclipse\n",
    "\n",
    "Text editors such as Atom, Sublime can also be used."
   ]
  },
  {
   "cell_type": "markdown",
   "metadata": {},
   "source": [
    "## Hello world!\n",
    "\n",
    "Finally."
   ]
  },
  {
   "cell_type": "code",
   "execution_count": 1,
   "metadata": {},
   "outputs": [
    {
     "name": "stdout",
     "output_type": "stream",
     "text": [
      "hello world\n"
     ]
    }
   ],
   "source": [
    "print(\"hello world\")"
   ]
  },
  {
   "cell_type": "markdown",
   "metadata": {},
   "source": [
    "## Data types\n",
    "\n",
    "Python supports wide range of data types. Each type for every required business case.\n",
    "\n",
    "* Text requirements can use the `str` type.\n",
    "* For any numeric requirements, you can use the `int`, `float`, and `complex` types.\n",
    "* Boolean operations can use the `bool` type.\n",
    "* Range-based systems can build on top of `list`, `tuple`, and `range` types.\n",
    "* Maps and sets can use the `dict` and `set` type respectively."
   ]
  },
  {
   "cell_type": "code",
   "execution_count": 2,
   "metadata": {},
   "outputs": [
    {
     "name": "stdout",
     "output_type": "stream",
     "text": [
      "<class 'int'>\n",
      "<class 'str'>\n"
     ]
    }
   ],
   "source": [
    "number = 5\n",
    "string = \"5\"\n",
    "\n",
    "print(type(number))\n",
    "print(type(string))"
   ]
  },
  {
   "cell_type": "markdown",
   "metadata": {},
   "source": [
    "## Variable names\n",
    "\n",
    "Python uses the common naming techniques. The variable name:\n",
    "\n",
    "1. Should not start with a number.\n",
    "1. Can be alphanumeric and use the special character, underscore (_).\n",
    "1. Is case-sensitive.\n",
    "\n",
    "> Note that Python is an interpreted language with a dynamic-typing. So, often you can create variables that might override the existing Python types or objects &mdash; the types that come from Python standard library."
   ]
  },
  {
   "cell_type": "code",
   "execution_count": 3,
   "metadata": {},
   "outputs": [
    {
     "name": "stdout",
     "output_type": "stream",
     "text": [
      "Python Bootcamp for Students lasts 2 months with 8 lessons.\n"
     ]
    }
   ],
   "source": [
    "bootcamp = \"Python Bootcamp\"\n",
    "for_ = \"Students\"\n",
    "\n",
    "number_of_lessons = 8\n",
    "_tenure = 2\n",
    "\n",
    "print(\"{} for {} lasts {} months with {} lessons.\"\n",
    "    .format(\n",
    "        bootcamp, for_, _tenure, number_of_lessons\n",
    "    )\n",
    ")"
   ]
  },
  {
   "cell_type": "markdown",
   "metadata": {},
   "source": [
    "## Take-home assignment\n",
    "\n",
    "Try to solve these tasks.\n",
    "\n",
    "* Create a Python script to print hello world. (Also try doing that with upper-case; HELLO WORLD)\n",
    "* Create a Python project in VS Code.\n",
    "* Install and configure a Python IDE (any IDE; PyCharm, Spyder, etc.)\n",
    "* Install Python using Anaconda environment.\n",
    "\n",
    "The next session will be about conditional structures in Python; `if...else`, `for` loops and functions in Python."
   ]
  },
  {
   "cell_type": "markdown",
   "metadata": {},
   "source": [
    "## Resources\n",
    "\n",
    "Some useful resources to learn Python.\n",
    "\n",
    "* [Python website](https://www.python.org/)\n",
    "* [Getting started with Python](https://www.python.org/about/gettingstarted/)\n",
    "* [Getting started with Python in VS Code](https://code.visualstudio.com/docs/python/python-tutorial)\n",
    "* [Machine Learning with Python](https://www.freecodecamp.org/learn/machine-learning-with-python/)\n",
    "* [Data Visualization](https://www.freecodecamp.org/learn/data-visualization/)\n",
    "\n",
    "You can get these resources from the [GitHub repository](https://github.com/afzaal-ahmad-zeeshan/python-3-bootcamp). For any questions, please reach out to me @afzaalvirgoboy or create a [new issue](/issues)."
   ]
  }
 ],
 "metadata": {
  "interpreter": {
   "hash": "87e49ce9ae6c084c0de591d13005c1ead1ab249ba438b217aec711f2d3808845"
  },
  "kernelspec": {
   "display_name": "Python 3.8.8 64-bit ('pyenv38': conda)",
   "name": "python3"
  },
  "language_info": {
   "codemirror_mode": {
    "name": "ipython",
    "version": 3
   },
   "file_extension": ".py",
   "mimetype": "text/x-python",
   "name": "python",
   "nbconvert_exporter": "python",
   "pygments_lexer": "ipython3",
   "version": "3.8.8"
  },
  "orig_nbformat": 4
 },
 "nbformat": 4,
 "nbformat_minor": 2
}
