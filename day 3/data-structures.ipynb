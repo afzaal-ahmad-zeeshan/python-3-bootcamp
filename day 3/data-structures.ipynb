{
 "cells": [
  {
   "cell_type": "markdown",
   "metadata": {},
   "source": [
    "# Python Bootcamp (Day 3)\n",
    "\n",
    "Let's learn Python together. :-)"
   ]
  },
  {
   "cell_type": "code",
   "execution_count": 1,
   "metadata": {},
   "outputs": [],
   "source": [
    "temp_variable = 5"
   ]
  },
  {
   "cell_type": "markdown",
   "metadata": {},
   "source": [
    "## Lists\n",
    "\n",
    "An array, or a number of elements stored in a single variable. A `list` object is Python native so the functions like `len`, `type`, work on it. You can also index the elements directly using the `[index]` operator. To add more elements you can use the `append` method. There are other methods that allow you to count, reverse and splice the list into new list.\n",
    "\n",
    "Python supports list comprehension, that is a flexible way to create lists from common data. You can sort the data using `sorted` function. In order to get the index while using a for loop, you should use the `enumerate` method. It provides the index and the value in the same call."
   ]
  },
  {
   "cell_type": "code",
   "execution_count": 2,
   "metadata": {},
   "outputs": [
    {
     "name": "stdout",
     "output_type": "stream",
     "text": [
      "['Python', 'Bootcamp']\n",
      "Bootcamp\n",
      "2\n",
      "['Python', 'Bootcamp', 'Microsoft', 'Python']\n",
      "Bootcamp\n",
      "Microsoft\n",
      "Python\n",
      "Python\n",
      "Python\n",
      "Bootcamp\n",
      "Microsoft\n",
      "Python\n"
     ]
    }
   ],
   "source": [
    "literal_list = [ \"Python\", \"Bootcamp\" ]\n",
    "print(literal_list)\n",
    "# print(type(literal_list))\n",
    "\n",
    "# list_style_list = list()\n",
    "\n",
    "# print(literal_list[2])\n",
    "element_index = 1\n",
    "print(literal_list[element_index])\n",
    "# print(type(literal_list[2]))\n",
    "\n",
    "print(len(literal_list))\n",
    "\n",
    "literal_list.append(\"Microsoft\")\n",
    "literal_list.append(\"Python\")\n",
    "print(literal_list)\n",
    "\n",
    "for element in sorted(literal_list):\n",
    "    print(element)\n",
    "\n",
    "for index, element in enumerate(literal_list):\n",
    "    print(literal_list[index])"
   ]
  },
  {
   "cell_type": "markdown",
   "metadata": {},
   "source": [
    "## Sets\n",
    "\n",
    "Sets are the basic example of map data types in Python. A set contains the distinct records only. Any duplicate will be removed (or ignored, but that's too technical to discuss; *ask question if you want me to elaborate how this works*). For a set you use `{}` brackets instead of `[]`. Similarly, you can use the `set` method but it only accepts a single parameter.\n",
    "\n",
    "The same comprehension works for a set too. Try it out. \n",
    "\n",
    "**Tip**: To quickly remove duplicates from a list, convert it to a set and then back to a list. "
   ]
  },
  {
   "cell_type": "code",
   "execution_count": 3,
   "metadata": {},
   "outputs": [
    {
     "name": "stdout",
     "output_type": "stream",
     "text": [
      "{'Python', 'Bootcamp'}\n",
      "True\n",
      "Yes, Python will be in the Bootcamp\n",
      "{'Microsoft', 'Python', 'Bootcamp'}\n"
     ]
    }
   ],
   "source": [
    "literal_set = { \"Python\", \"Bootcamp\" }\n",
    "print(literal_set)\n",
    "\n",
    "print(\"Python\" in literal_set)\n",
    "\n",
    "if \"Python\" in literal_set:\n",
    "    print(\"Yes, Python will be in the Bootcamp\")\n",
    "\n",
    "literal_set.add(\"Microsoft\")\n",
    "literal_set.add(\"Python\")\n",
    "\n",
    "print(literal_set) # Come back to this point, why Python is moved?"
   ]
  },
  {
   "cell_type": "code",
   "execution_count": 4,
   "metadata": {},
   "outputs": [
    {
     "name": "stdout",
     "output_type": "stream",
     "text": [
      "[1, 2, 3, 4, 5, 6, 7, 8, 9, 10, 11, 12, 13, 14, 15, 16, 17, 18, 19]\n",
      "[2, 4, 6, 8, 10, 12, 14, 16, 18]\n",
      "{1, 2, 3, 4, 5, 6, 7, 8, 9, 10, 11, 12, 13, 14, 15, 16, 17, 18, 19}\n"
     ]
    }
   ],
   "source": [
    "list_comp = [i for i in range(1, 20)]\n",
    "print(list_comp)\n",
    "\n",
    "list_even_odd = [number for number in range(1, 20) if number % 2 == 0]\n",
    "print(list_even_odd)\n",
    "\n",
    "set_comp = {i for i in range(1, 20)}\n",
    "print(set_comp)"
   ]
  },
  {
   "cell_type": "markdown",
   "metadata": {},
   "source": [
    "## Dictionaries\n",
    "\n",
    "Dictionaries are advanced example of a map type. A dictionary is like a set (it is created with a `{}` bracket) but for every item, it can store a value in it too. You can traverse the dictionary using `for key, value in dictionary.items():` structure. The `key, value` corresponds to a tuple type. For more on that, read on."
   ]
  },
  {
   "cell_type": "code",
   "execution_count": 5,
   "metadata": {},
   "outputs": [
    {
     "name": "stdout",
     "output_type": "stream",
     "text": [
      "I need to buy eggs\n",
      "I need to pay bills\n",
      "tasks_per_day: 6\n",
      "tasks_for_home: ['buy eggs', 'pay bills']\n",
      "work: {'code'}\n"
     ]
    }
   ],
   "source": [
    "literal_dict = { \"A\": 1234, \"B\": 4321 }\n",
    "language_dict = { \"C++\": \"A low-level language\", \"Python\": \"A high-level language\" }\n",
    "my_todos = { \"tasks_per_day\": 6, \"tasks_for_home\": [ \"buy eggs\", \"pay bills\" ], \"work\": { \"code\" } }\n",
    "\n",
    "if \"tasks_for_home\" in my_todos:\n",
    "    for task in my_todos[\"tasks_for_home\"]:\n",
    "        print(\"I need to {}\".format(task))\n",
    "\n",
    "for key, value in my_todos.items():\n",
    "    print(\"{}: {}\".format(key, value))"
   ]
  },
  {
   "cell_type": "markdown",
   "metadata": {},
   "source": [
    "## Tuples\n",
    "\n",
    "Tuples can be created using any type of data (including data structures). The tuple type is an **immutable** type. You cannot modify the tuple itself, but you can modify the data inside the tuple elements."
   ]
  },
  {
   "cell_type": "code",
   "execution_count": 6,
   "metadata": {},
   "outputs": [
    {
     "name": "stdout",
     "output_type": "stream",
     "text": [
      "('Python', 'Bootcamp')\n",
      "Python\n",
      "(['Python'], 'Bootcamp')\n",
      "(['Python', 'Microsoft'], 'Bootcamp')\n"
     ]
    }
   ],
   "source": [
    "literal_tuple = (\"Python\", \"Bootcamp\")\n",
    "print(literal_tuple)\n",
    "\n",
    "print(literal_tuple[0])\n",
    "tuple_with_list = ([\"Python\"], \"Bootcamp\")\n",
    "print(tuple_with_list)\n",
    "tuple_with_list[0].append(\"Microsoft\")\n",
    "print(tuple_with_list)"
   ]
  },
  {
   "cell_type": "markdown",
   "metadata": {},
   "source": [
    "## Take-home assignment\n",
    "\n",
    "* Create a list of strings using the `list` method.\n",
    "* Reverse a list using the Python's library.\n",
    "* Create a dictionary for student details and input:\n",
    "   - Student ID\n",
    "   - Name\n",
    "   - Batch Number\n",
    "   - Major Subject\n",
    "* In the dictionary created above: print the details of the student."
   ]
  },
  {
   "cell_type": "markdown",
   "metadata": {},
   "source": [
    "## Resources\n",
    "\n",
    "* [collections](https://docs.python.org/3/library/collections.html) in Python\n",
    "* [Data Structures](https://docs.python.org/3/tutorial/datastructures.html) in Python"
   ]
  }
 ],
 "metadata": {
  "interpreter": {
   "hash": "87e49ce9ae6c084c0de591d13005c1ead1ab249ba438b217aec711f2d3808845"
  },
  "kernelspec": {
   "display_name": "Python 3.8.8 64-bit ('pyenv38': conda)",
   "language": "python",
   "name": "python3"
  },
  "language_info": {
   "codemirror_mode": {
    "name": "ipython",
    "version": 3
   },
   "file_extension": ".py",
   "mimetype": "text/x-python",
   "name": "python",
   "nbconvert_exporter": "python",
   "pygments_lexer": "ipython3",
   "version": "3.8.8"
  },
  "orig_nbformat": 4
 },
 "nbformat": 4,
 "nbformat_minor": 2
}
