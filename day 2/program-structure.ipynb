{
 "cells": [
  {
   "cell_type": "markdown",
   "metadata": {},
   "source": [
    "# Python Bootcamp (Day 2)\n",
    "\n",
    "Let's learn Python together. :-)"
   ]
  },
  {
   "cell_type": "markdown",
   "metadata": {},
   "source": [
    "## Conditionals\n",
    "\n",
    "Write the logic that you need to be evulated before running a part of the code. Think of your exams, did you pass or fail? Think of your assignments, did you submit or not? So on.\n",
    "\n",
    "In Python, you can also write the code that executes when the logic does not quality. These are known as edge-cases."
   ]
  },
  {
   "cell_type": "code",
   "execution_count": 1,
   "metadata": {},
   "outputs": [
    {
     "name": "stdout",
     "output_type": "stream",
     "text": [
      "A\n",
      "you lost\n"
     ]
    }
   ],
   "source": [
    "condition = False\n",
    "\n",
    "if condition:\n",
    "    print(\"Hello friends\")\n",
    "\n",
    "marks = 85\n",
    "\n",
    "if marks > 80:\n",
    "    print(\"A\")\n",
    "else:\n",
    "    print(\"lower than A\")\n",
    "\n",
    "health = -1\n",
    "\n",
    "if health < 0:\n",
    "    print(\"you lost\")\n",
    "\n",
    "fruits = [ \"apples\", \"oranges\", \"bananas\" ]\n",
    "## Assignment"
   ]
  },
  {
   "cell_type": "markdown",
   "metadata": {},
   "source": [
    "## Loops\n",
    "\n",
    "Sometimes you need to run the code multiple times (more than 1 time, at least). You can use the iterative/loop structures to run a command multiple times.\n",
    "\n",
    "Think of sending a message to multiple people (without a group, technical a group is a single entity). In loops, you can still skip some executions based on a condition."
   ]
  },
  {
   "cell_type": "code",
   "execution_count": 2,
   "metadata": {},
   "outputs": [
    {
     "name": "stdout",
     "output_type": "stream",
     "text": [
      "Assignment delivered to student A\n",
      "Assignment delivered to student C\n",
      "Assignment delivered to student D\n",
      "Assignment delivered to student E\n"
     ]
    }
   ],
   "source": [
    "# print(\"Assignment delivered to student A\")\n",
    "# print(\"Assignment delivered to student B\")\n",
    "# print(\"Assignment delivered to student C\")\n",
    "\n",
    "# students = [ \"A\", \"B\", \"C\", \"D\", \"E\" ]\n",
    "# for student in students:\n",
    "#     print(\"Assignment delivered to student {}\".format(student))\n",
    "\n",
    "# students = [ \"A\", \"B\", \"C\", \"D\", \"E\" ]\n",
    "# for student in students:\n",
    "#     if student == \"B\":\n",
    "#         pass\n",
    "#     else:\n",
    "#         print(\"Assignment delivered to student {}\".format(student))\n",
    "\n",
    "# students = [ \"A\", \"B\", \"C\", \"D\", \"E\" ]\n",
    "# for student in students:\n",
    "#     if student == \"B\":\n",
    "#         continue\n",
    "    \n",
    "#     print(\"Assignment delivered to student {}\".format(student))\n",
    "\n",
    "students = [ \"A\", \"B\", \"C\", \"D\", \"E\" ]\n",
    "for student in students:\n",
    "    if student != \"B\":\n",
    "        print(\"Assignment delivered to student {}\".format(student))\n",
    "\n",
    "## Use if...else and for loops interchangeably"
   ]
  },
  {
   "cell_type": "markdown",
   "metadata": {},
   "source": [
    "## Functions\n",
    "\n",
    "Your program will need to perform a task, you can write a sequential code for that. Often, you will find yourself repeating the same operations over time. Think of receiving the input from the users, do you have to call the input method, or directly tell CPU what to do? \n",
    "\n",
    "Functions (or methods in object-oriented programming) allow you to reuse the code in various areas of your program. The functions can be configured using the parameters."
   ]
  },
  {
   "cell_type": "code",
   "execution_count": 3,
   "metadata": {},
   "outputs": [
    {
     "name": "stdout",
     "output_type": "stream",
     "text": [
      "Starting program...\n",
      "Done.\n",
      "Ending program...\n"
     ]
    }
   ],
   "source": [
    "# print(\"Starting program...\")\n",
    "# print(\"Starting execution...\")\n",
    "# print(\"Starting processing...\")\n",
    "# print(\"Done.\")\n",
    "# print(\"Ending program...\")\n",
    "\n",
    "def process(should_execute, should_process):\n",
    "    print(\"Starting program...\")\n",
    "    if should_execute:\n",
    "        print(\"Starting execution...\")\n",
    "    \n",
    "    if should_process:\n",
    "        print(\"Starting processing...\")\n",
    "    print(\"Done.\")\n",
    "    print(\"Ending program...\")\n",
    "\n",
    "# process(True, True)\n",
    "# process(True, False)\n",
    "process(False, False)\n",
    "\n",
    "## Assignment"
   ]
  },
  {
   "cell_type": "markdown",
   "metadata": {},
   "source": [
    "## Take-home assignment\n",
    "\n",
    "* Print a message on the screen saying \"Passed\" if the `marks` variable's value is more than 40, otherwise \"Failed\".\n",
    "* Show the grade of the user based on their marks. \n",
    "    -  A >= 80\n",
    "    -  B >= 60\n",
    "    -  C >= 50\n",
    "    -  D >= 40\n",
    "    -  F < 40\n",
    "* Create a list of 10 numbers, for every element, if the number is even print \"Even\", otherwise, print \"Odd\"."
   ]
  },
  {
   "cell_type": "markdown",
   "metadata": {},
   "source": [
    "## Resources\n",
    "\n",
    "* [Control Flow in Python](https://docs.python.org/3/tutorial/controlflow.html)"
   ]
  }
 ],
 "metadata": {
  "interpreter": {
   "hash": "87e49ce9ae6c084c0de591d13005c1ead1ab249ba438b217aec711f2d3808845"
  },
  "kernelspec": {
   "display_name": "Python 3.8.8 64-bit ('pyenv38': conda)",
   "name": "python3"
  },
  "language_info": {
   "codemirror_mode": {
    "name": "ipython",
    "version": 3
   },
   "file_extension": ".py",
   "mimetype": "text/x-python",
   "name": "python",
   "nbconvert_exporter": "python",
   "pygments_lexer": "ipython3",
   "version": "3.8.8"
  },
  "orig_nbformat": 4
 },
 "nbformat": 4,
 "nbformat_minor": 2
}
